{
  "nbformat": 4,
  "nbformat_minor": 0,
  "metadata": {
    "colab": {
      "provenance": [],
      "authorship_tag": "ABX9TyOk2KlV2Lzt43uNURMo6deT",
      "include_colab_link": true
    },
    "kernelspec": {
      "name": "python3",
      "display_name": "Python 3"
    },
    "language_info": {
      "name": "python"
    }
  },
  "cells": [
    {
      "cell_type": "markdown",
      "metadata": {
        "id": "view-in-github",
        "colab_type": "text"
      },
      "source": [
        "<a href=\"https://colab.research.google.com/github/lumuseric/Projeto_Aula4/blob/main/Alura_Aula_4_Chat_Bot.ipynb\" target=\"_parent\"><img src=\"https://colab.research.google.com/assets/colab-badge.svg\" alt=\"Open In Colab\"/></a>"
      ]
    },
    {
      "cell_type": "markdown",
      "source": [
        "Instalando SDK do Google: Instalação dentro da plataforma que está rodando no Google Cloud (Colab). Trata-se de um gestor de pacotes do Python, muito verboso, que gera muito output. Utilizamos o comando \"-q\" para obter um resultado silencioso e -u faz o update do pacote Genai"
      ],
      "metadata": {
        "id": "b7h3mW2sti0m"
      }
    },
    {
      "cell_type": "code",
      "source": [],
      "metadata": {
        "id": "gANXGN3xypQ-"
      },
      "execution_count": 28,
      "outputs": []
    },
    {
      "cell_type": "code",
      "source": [
        "!pip install -q -U Google-generativeai"
      ],
      "metadata": {
        "id": "3UAPV2iItQaB"
      },
      "execution_count": 29,
      "outputs": []
    },
    {
      "cell_type": "markdown",
      "source": [
        "APIKEY: Controle de acesso, se é ativa/valida, e se é de um usuário válido"
      ],
      "metadata": {
        "id": "DiqkOcrnyuLn"
      }
    },
    {
      "cell_type": "code",
      "source": [
        "import google.generativeai as genai ## essa variável chama a conexão com o Google AI\n",
        "from google.colab import userdata\n",
        "api_key = userdata.get(\"SECRET_KEY\")\n",
        "genai.configure(api_key=api_key)"
      ],
      "metadata": {
        "id": "4DD59V1CtvSZ"
      },
      "execution_count": 30,
      "outputs": []
    },
    {
      "cell_type": "markdown",
      "source": [
        "Listar os modelos disponíveis"
      ],
      "metadata": {
        "id": "B928BaiRuWQ9"
      }
    },
    {
      "cell_type": "code",
      "source": [
        "for m in genai.list_models():\n",
        "    if 'generateContent' in m.supported_generation_methods:\n",
        "      print(m.name)"
      ],
      "metadata": {
        "colab": {
          "base_uri": "https://localhost:8080/",
          "height": 144
        },
        "id": "HrxYjq4ouUQn",
        "outputId": "a5aed530-4c1c-46bc-f0d9-ee5990f14e19"
      },
      "execution_count": 31,
      "outputs": [
        {
          "output_type": "stream",
          "name": "stdout",
          "text": [
            "models/gemini-1.0-pro\n",
            "models/gemini-1.0-pro-001\n",
            "models/gemini-1.0-pro-latest\n",
            "models/gemini-1.0-pro-vision-latest\n",
            "models/gemini-1.5-pro-latest\n",
            "models/gemini-pro\n",
            "models/gemini-pro-vision\n"
          ]
        }
      ]
    },
    {
      "cell_type": "markdown",
      "source": [
        "Parametrizando o modelo:\t• Set up de temperatura, top K, top P no SDK e filtros de segurança. A ordem dos parâmetros não importa e existem os parâmetros default caso não especificado\n"
      ],
      "metadata": {
        "id": "MpUVlOTQxSsI"
      }
    },
    {
      "cell_type": "markdown",
      "source": [
        "Set up de temperatura"
      ],
      "metadata": {
        "id": "sD0SvlYzwNX5"
      }
    },
    {
      "cell_type": "code",
      "source": [
        "generation_config = { #nome da variável, pode substituir\n",
        "    \"candidate_count\": 1,\n",
        "    \"temperature\": 0.5,\n",
        "}"
      ],
      "metadata": {
        "id": "qM6ubdh8wa8b"
      },
      "execution_count": 32,
      "outputs": []
    },
    {
      "cell_type": "markdown",
      "source": [
        "set up de segurança"
      ],
      "metadata": {
        "id": "YIhqGbBaw7rZ"
      }
    },
    {
      "cell_type": "code",
      "source": [
        "safety_settings = { #nome da variável, pode substituir\n",
        "    \"HARASSMENT\": \"BLOCK_NONE\",\n",
        "    \"HATE\": \"BLOCK_NONE\",\n",
        "    \"SEXUAL\": \"BLOCK_NONE\",\n",
        "    \"DANGEROUS\": \"BLOCK_NONE\"\n",
        "}"
      ],
      "metadata": {
        "id": "ALAvBCOHw5x0"
      },
      "execution_count": 33,
      "outputs": []
    },
    {
      "cell_type": "markdown",
      "source": [
        "Inicializando o Modelo"
      ],
      "metadata": {
        "id": "bIzPp8d6zHul"
      }
    },
    {
      "cell_type": "code",
      "source": [
        "model = genai.GenerativeModel(model_name=\"gemini-1.0-pro\", # se inserir so 1 item, somente o nome do modelo\n",
        "                              generation_config=generation_config, #caso tenha mais itens de parâmetro, inserir na call\n",
        "                              safety_settings=safety_settings)\n"
      ],
      "metadata": {
        "id": "BSKOWUg2zKyb"
      },
      "execution_count": 34,
      "outputs": []
    },
    {
      "cell_type": "code",
      "source": [
        "response = model.generate_content(\"Vamos aprender conteúdo sobre IA. Me dê sugestões.\")\n",
        "print(response.text) #imprimindo sem o .text traz varios atributos. o text traz somente o texto limpo"
      ],
      "metadata": {
        "colab": {
          "base_uri": "https://localhost:8080/",
          "height": 906
        },
        "id": "j8RC6U6-0gqq",
        "outputId": "e425fc21-ab34-41d3-e0ea-368771084344"
      },
      "execution_count": 35,
      "outputs": [
        {
          "output_type": "stream",
          "name": "stdout",
          "text": [
            "**Introdução à IA**\n",
            "\n",
            "* Definição e tipos de IA\n",
            "* História e evolução da IA\n",
            "* Princípios fundamentais da IA\n",
            "\n",
            "**Aprendizado de Máquina**\n",
            "\n",
            "* Tipos de aprendizado de máquina: supervisionado, não supervisionado e por reforço\n",
            "* Algoritmos de aprendizado de máquina: árvores de decisão, regressão linear, redes neurais\n",
            "* Avaliação de modelos de aprendizado de máquina\n",
            "\n",
            "**Aprendizado Profundo**\n",
            "\n",
            "* Redes neurais convolucionais (CNNs)\n",
            "* Redes neurais recorrentes (RNNs)\n",
            "* Transformadores\n",
            "\n",
            "**Processamento de Linguagem Natural (PNL)**\n",
            "\n",
            "* Modelagem de linguagem\n",
            "* Processamento de texto\n",
            "* Reconhecimento de fala\n",
            "\n",
            "**Visão Computacional**\n",
            "\n",
            "* Reconhecimento de imagem\n",
            "* Detecção de objeto\n",
            "* Segmentação de imagem\n",
            "\n",
            "**Aplicações da IA**\n",
            "\n",
            "* Automação de tarefas\n",
            "* Tomada de decisão\n",
            "* Previsão e análise\n",
            "* Atendimento ao cliente\n",
            "\n",
            "**Ética e Implicações Sociais da IA**\n",
            "\n",
            "* Preconceito e discriminação\n",
            "* Perda de empregos\n",
            "* Privacidade e segurança\n",
            "\n",
            "**Recursos para Aprendizado**\n",
            "\n",
            "* Cursos online: Coursera, edX, Udacity\n",
            "* Livros: \"Inteligência Artificial: Uma Abordagem Moderna\" (Stuart Russell e Peter Norvig), \"Aprendizado de Máquina\" (Tom Mitchell)\n",
            "* Revistas: Nature Machine Intelligence, IEEE Transactions on Artificial Intelligence\n",
            "* Conferências: NeurIPS, ICML, CVPR\n"
          ]
        }
      ]
    },
    {
      "cell_type": "markdown",
      "source": [
        "Criando o chat, como se fosse a nossa própria interface customizada do Gemini. Queremos algo interativo, fazer pergunta e obter respostas."
      ],
      "metadata": {
        "id": "e5_UvyES12hP"
      }
    },
    {
      "cell_type": "code",
      "source": [
        "chat = model.start_chat(history=[]) ## abrindo lista vazia # comando history permite a manutenão do historico de contexto"
      ],
      "metadata": {
        "id": "5ZaQdbD01Yq4"
      },
      "execution_count": 36,
      "outputs": []
    },
    {
      "cell_type": "code",
      "source": [
        "prompt = input(\"Esperando prompt: \") #ele fica esperando input do usuario\n",
        "#criar critério de parada para esperar ações com while\n",
        "while prompt != \"fim\": #while assim como for tem : no fim\n",
        "  response = chat.send_message(prompt) #para metodos, abrir e fechar parênteses #2 aqui, estamos colocando uma variável no lugar do prompt direto ex: model.generate_content(\"Vamos aprender conteúdo sobre IA. Me dê sugestões.\")\n",
        "  print(\"Resposta: \", response.text, \"\\n\") #escape para pular linha // printando respostas variáveis mediante aos prompts do usuario\n",
        "  # rodar assim funciona, mas precisamos pegar o loop de inputs, portanto, inserir o primpt novamente\n",
        "  prompt = input(\"Esperando prompt: \")"
      ],
      "metadata": {
        "colab": {
          "base_uri": "https://localhost:8080/",
          "height": 489
        },
        "id": "euLtZ6Bk1yUX",
        "outputId": "e67c3f2c-105e-4cc8-c71f-0e5b2409dadf"
      },
      "execution_count": 37,
      "outputs": [
        {
          "name": "stdout",
          "output_type": "stream",
          "text": [
            "Esperando prompt: quem é o pai do naruto?\n",
            "Resposta:  Minato Namikaze \n",
            "\n",
            "Esperando prompt: Qual a cor do cabelo dele?\n",
            "Resposta:  Amarelo \n",
            "\n",
            "Esperando prompt: é longo ou curto?\n",
            "Resposta:  Curto \n",
            "\n",
            "Esperando prompt: qual a técnica mais poderosa que ele possui?\n",
            "Resposta:  Modo Sábio dos Seis Caminhos \n",
            "\n",
            "Esperando prompt: para que serve?\n",
            "Resposta:  O Modo Sábio dos Seis Caminhos permite que o usuário acesse o poder dos Seis Caminhos, concedendo-lhe habilidades extraordinárias:\n",
            "\n",
            "* **Senjutsu Aprimorado:** O usuário pode usar o senjutsu muito mais poderoso do que o Modo Sábio normal.\n",
            "* **Esferas da Busca da Verdade:** O usuário pode criar e manipular esferas negras flutuantes que podem detectar e rastrear alvos, bem como disparar como projéteis poderosos.\n",
            "* **Voo:** O usuário pode voar usando as Esferas da Busca da Verdade como plataformas.\n",
            "* **Transformação das Besta com Cauda:** O usuário pode se transformar em uma Besta com Cauda completa, ganhando seu poder e habilidades.\n",
            "* **Técnicas dos Seis Caminhos:** O usuário pode usar várias técnicas poderosas, como o Chibaku Tensei e o Limbo.\n",
            "* **Resistência Aprimorada:** O usuário se torna altamente resistente a ataques físicos e espirituais.\n",
            "* **Percepção Aprimorada:** O usuário pode sentir e rastrear chakra, mesmo de longas distâncias.\n",
            "* **Cura Regenerativa:** O usuário pode curar rapidamente ferimentos graves.\n",
            "* **Absorção de Chakra:** O usuário pode absorver chakra de outras fontes, incluindo Bestas com Cauda. \n",
            "\n",
            "Esperando prompt: fim\n"
          ]
        }
      ]
    },
    {
      "cell_type": "code",
      "source": [
        "chat.history"
      ],
      "metadata": {
        "colab": {
          "base_uri": "https://localhost:8080/"
        },
        "id": "DfAYTDBv3jPx",
        "outputId": "cb5229c1-37d3-4266-c7b1-5bc5488809a9"
      },
      "execution_count": 38,
      "outputs": [
        {
          "output_type": "execute_result",
          "data": {
            "text/plain": [
              "[parts {\n",
              "   text: \"quem \\303\\251 o pai do naruto?\"\n",
              " }\n",
              " role: \"user\",\n",
              " parts {\n",
              "   text: \"Minato Namikaze\"\n",
              " }\n",
              " role: \"model\",\n",
              " parts {\n",
              "   text: \"Qual a cor do cabelo dele?\"\n",
              " }\n",
              " role: \"user\",\n",
              " parts {\n",
              "   text: \"Amarelo\"\n",
              " }\n",
              " role: \"model\",\n",
              " parts {\n",
              "   text: \"\\303\\251 longo ou curto?\"\n",
              " }\n",
              " role: \"user\",\n",
              " parts {\n",
              "   text: \"Curto\"\n",
              " }\n",
              " role: \"model\",\n",
              " parts {\n",
              "   text: \"qual a t\\303\\251cnica mais poderosa que ele possui?\"\n",
              " }\n",
              " role: \"user\",\n",
              " parts {\n",
              "   text: \"Modo S\\303\\241bio dos Seis Caminhos\"\n",
              " }\n",
              " role: \"model\",\n",
              " parts {\n",
              "   text: \"para que serve?\"\n",
              " }\n",
              " role: \"user\",\n",
              " parts {\n",
              "   text: \"O Modo S\\303\\241bio dos Seis Caminhos permite que o usu\\303\\241rio acesse o poder dos Seis Caminhos, concedendo-lhe habilidades extraordin\\303\\241rias:\\n\\n* **Senjutsu Aprimorado:** O usu\\303\\241rio pode usar o senjutsu muito mais poderoso do que o Modo S\\303\\241bio normal.\\n* **Esferas da Busca da Verdade:** O usu\\303\\241rio pode criar e manipular esferas negras flutuantes que podem detectar e rastrear alvos, bem como disparar como proj\\303\\251teis poderosos.\\n* **Voo:** O usu\\303\\241rio pode voar usando as Esferas da Busca da Verdade como plataformas.\\n* **Transforma\\303\\247\\303\\243o das Besta com Cauda:** O usu\\303\\241rio pode se transformar em uma Besta com Cauda completa, ganhando seu poder e habilidades.\\n* **T\\303\\251cnicas dos Seis Caminhos:** O usu\\303\\241rio pode usar v\\303\\241rias t\\303\\251cnicas poderosas, como o Chibaku Tensei e o Limbo.\\n* **Resist\\303\\252ncia Aprimorada:** O usu\\303\\241rio se torna altamente resistente a ataques f\\303\\255sicos e espirituais.\\n* **Percep\\303\\247\\303\\243o Aprimorada:** O usu\\303\\241rio pode sentir e rastrear chakra, mesmo de longas dist\\303\\242ncias.\\n* **Cura Regenerativa:** O usu\\303\\241rio pode curar rapidamente ferimentos graves.\\n* **Absor\\303\\247\\303\\243o de Chakra:** O usu\\303\\241rio pode absorver chakra de outras fontes, incluindo Bestas com Cauda.\"\n",
              " }\n",
              " role: \"model\"]"
            ]
          },
          "metadata": {},
          "execution_count": 38
        }
      ]
    },
    {
      "cell_type": "code",
      "source": [
        "chat"
      ],
      "metadata": {
        "colab": {
          "base_uri": "https://localhost:8080/"
        },
        "id": "sx-NMZGX5IBr",
        "outputId": "8b692e08-3b8d-49ee-e1c5-2736f98b37e8"
      },
      "execution_count": 39,
      "outputs": [
        {
          "output_type": "execute_result",
          "data": {
            "text/plain": [
              "ChatSession(\n",
              "    model=genai.GenerativeModel(\n",
              "        model_name='models/gemini-1.0-pro',\n",
              "        generation_config={'candidate_count': 1, 'temperature': 0.5},\n",
              "        safety_settings={<HarmCategory.HARM_CATEGORY_HARASSMENT: 7>: <HarmBlockThreshold.BLOCK_NONE: 4>, <HarmCategory.HARM_CATEGORY_HATE_SPEECH: 8>: <HarmBlockThreshold.BLOCK_NONE: 4>, <HarmCategory.HARM_CATEGORY_SEXUALLY_EXPLICIT: 9>: <HarmBlockThreshold.BLOCK_NONE: 4>, <HarmCategory.HARM_CATEGORY_DANGEROUS_CONTENT: 10>: <HarmBlockThreshold.BLOCK_NONE: 4>},\n",
              "        tools=None,\n",
              "        system_instruction=None,\n",
              "    ),\n",
              "    history=[glm.Content({'parts': [{'text': 'quem é o pai do naruto?'}], 'role': 'user'}), glm.Content({'parts': [{'text': 'Minato Namikaze'}], 'role': 'model'}), glm.Content({'parts': [{'text': 'Qual a cor do cabelo dele?'}], 'role': 'user'}), glm.Content({'parts': [{'text': 'Amarelo'}], 'role': 'model'}), glm.Content({'parts': [{'text': 'é longo ou curto?'}], 'role': 'user'}), glm.Content({'parts': [{'text': 'Curto'}], 'role': 'model'}), glm.Content({'parts': [{'text': 'qual a técni...e ele possui?'}], 'role': 'user'}), glm.Content({'parts': [{'text': 'Modo Sábio dos Seis Caminhos'}], 'role': 'model'}), glm.Content({'parts': [{'text': 'para que serve?'}], 'role': 'user'}), glm.Content({'parts': [{'text': 'O Modo Sábio...as com Cauda.'}], 'role': 'model'})]\n",
              ")"
            ]
          },
          "metadata": {},
          "execution_count": 39
        }
      ]
    },
    {
      "cell_type": "code",
      "source": [
        "#Melhorando a visualização\n",
        "#Código disponível em https://ai.google.dev/tutorials/python_quickstart#import_packages\n",
        "import textwrap\n",
        "from IPython.display import display\n",
        "from IPython.display import Markdown\n",
        "\n",
        "def to_markdown(text): #to_markdown printa com formatação mais apresentável\n",
        "  text = text.replace('•', '  *')\n",
        "  return Markdown(textwrap.indent(text, '> ', predicate=lambda _: True))\n",
        "\n",
        "#Imprimindo o histórico\n",
        "for message in chat.history:\n",
        "  display(to_markdown(f'**{message.role}**: {message.parts[0].text}'))\n",
        "  print('-------------------------------------------')"
      ],
      "metadata": {
        "colab": {
          "base_uri": "https://localhost:8080/",
          "height": 832
        },
        "id": "Pgu0kkLZ5LWs",
        "outputId": "dfee0a43-b877-4af9-b3d5-70d188ad7fcb"
      },
      "execution_count": 40,
      "outputs": [
        {
          "output_type": "display_data",
          "data": {
            "text/plain": [
              "<IPython.core.display.Markdown object>"
            ],
            "text/markdown": "> **user**: quem é o pai do naruto?"
          },
          "metadata": {}
        },
        {
          "output_type": "stream",
          "name": "stdout",
          "text": [
            "-------------------------------------------\n"
          ]
        },
        {
          "output_type": "display_data",
          "data": {
            "text/plain": [
              "<IPython.core.display.Markdown object>"
            ],
            "text/markdown": "> **model**: Minato Namikaze"
          },
          "metadata": {}
        },
        {
          "output_type": "stream",
          "name": "stdout",
          "text": [
            "-------------------------------------------\n"
          ]
        },
        {
          "output_type": "display_data",
          "data": {
            "text/plain": [
              "<IPython.core.display.Markdown object>"
            ],
            "text/markdown": "> **user**: Qual a cor do cabelo dele?"
          },
          "metadata": {}
        },
        {
          "output_type": "stream",
          "name": "stdout",
          "text": [
            "-------------------------------------------\n"
          ]
        },
        {
          "output_type": "display_data",
          "data": {
            "text/plain": [
              "<IPython.core.display.Markdown object>"
            ],
            "text/markdown": "> **model**: Amarelo"
          },
          "metadata": {}
        },
        {
          "output_type": "stream",
          "name": "stdout",
          "text": [
            "-------------------------------------------\n"
          ]
        },
        {
          "output_type": "display_data",
          "data": {
            "text/plain": [
              "<IPython.core.display.Markdown object>"
            ],
            "text/markdown": "> **user**: é longo ou curto?"
          },
          "metadata": {}
        },
        {
          "output_type": "stream",
          "name": "stdout",
          "text": [
            "-------------------------------------------\n"
          ]
        },
        {
          "output_type": "display_data",
          "data": {
            "text/plain": [
              "<IPython.core.display.Markdown object>"
            ],
            "text/markdown": "> **model**: Curto"
          },
          "metadata": {}
        },
        {
          "output_type": "stream",
          "name": "stdout",
          "text": [
            "-------------------------------------------\n"
          ]
        },
        {
          "output_type": "display_data",
          "data": {
            "text/plain": [
              "<IPython.core.display.Markdown object>"
            ],
            "text/markdown": "> **user**: qual a técnica mais poderosa que ele possui?"
          },
          "metadata": {}
        },
        {
          "output_type": "stream",
          "name": "stdout",
          "text": [
            "-------------------------------------------\n"
          ]
        },
        {
          "output_type": "display_data",
          "data": {
            "text/plain": [
              "<IPython.core.display.Markdown object>"
            ],
            "text/markdown": "> **model**: Modo Sábio dos Seis Caminhos"
          },
          "metadata": {}
        },
        {
          "output_type": "stream",
          "name": "stdout",
          "text": [
            "-------------------------------------------\n"
          ]
        },
        {
          "output_type": "display_data",
          "data": {
            "text/plain": [
              "<IPython.core.display.Markdown object>"
            ],
            "text/markdown": "> **user**: para que serve?"
          },
          "metadata": {}
        },
        {
          "output_type": "stream",
          "name": "stdout",
          "text": [
            "-------------------------------------------\n"
          ]
        },
        {
          "output_type": "display_data",
          "data": {
            "text/plain": [
              "<IPython.core.display.Markdown object>"
            ],
            "text/markdown": "> **model**: O Modo Sábio dos Seis Caminhos permite que o usuário acesse o poder dos Seis Caminhos, concedendo-lhe habilidades extraordinárias:\n> \n> * **Senjutsu Aprimorado:** O usuário pode usar o senjutsu muito mais poderoso do que o Modo Sábio normal.\n> * **Esferas da Busca da Verdade:** O usuário pode criar e manipular esferas negras flutuantes que podem detectar e rastrear alvos, bem como disparar como projéteis poderosos.\n> * **Voo:** O usuário pode voar usando as Esferas da Busca da Verdade como plataformas.\n> * **Transformação das Besta com Cauda:** O usuário pode se transformar em uma Besta com Cauda completa, ganhando seu poder e habilidades.\n> * **Técnicas dos Seis Caminhos:** O usuário pode usar várias técnicas poderosas, como o Chibaku Tensei e o Limbo.\n> * **Resistência Aprimorada:** O usuário se torna altamente resistente a ataques físicos e espirituais.\n> * **Percepção Aprimorada:** O usuário pode sentir e rastrear chakra, mesmo de longas distâncias.\n> * **Cura Regenerativa:** O usuário pode curar rapidamente ferimentos graves.\n> * **Absorção de Chakra:** O usuário pode absorver chakra de outras fontes, incluindo Bestas com Cauda."
          },
          "metadata": {}
        },
        {
          "output_type": "stream",
          "name": "stdout",
          "text": [
            "-------------------------------------------\n"
          ]
        }
      ]
    }
  ]
}